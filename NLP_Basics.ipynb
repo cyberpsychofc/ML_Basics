{
  "nbformat": 4,
  "nbformat_minor": 0,
  "metadata": {
    "colab": {
      "provenance": [],
      "authorship_tag": "ABX9TyPLBAVpoTesnLUz4MFQNB91"
    },
    "kernelspec": {
      "name": "python3",
      "display_name": "Python 3"
    },
    "language_info": {
      "name": "python"
    }
  },
  "cells": [
    {
      "cell_type": "code",
      "execution_count": null,
      "metadata": {
        "id": "OEZ9O_JT_W63",
        "colab": {
          "base_uri": "https://localhost:8080/"
        },
        "outputId": "0543414f-e4df-406d-8863-04513b94b20a"
      },
      "outputs": [
        {
          "output_type": "stream",
          "name": "stdout",
          "text": [
            "Requirement already satisfied: nltk in /usr/local/lib/python3.10/dist-packages (3.8.1)\n",
            "Requirement already satisfied: click in /usr/local/lib/python3.10/dist-packages (from nltk) (8.1.7)\n",
            "Requirement already satisfied: joblib in /usr/local/lib/python3.10/dist-packages (from nltk) (1.4.2)\n",
            "Requirement already satisfied: regex>=2021.8.3 in /usr/local/lib/python3.10/dist-packages (from nltk) (2024.5.15)\n",
            "Requirement already satisfied: tqdm in /usr/local/lib/python3.10/dist-packages (from nltk) (4.66.4)\n"
          ]
        }
      ],
      "source": [
        "pip install nltk"
      ]
    },
    {
      "cell_type": "code",
      "source": [
        "para = \"\"\"Some theories, most notably special and general relativity, suggest that suitable geometries of spacetime or specific types of motion in space might allow time travel into the past and future if these geometries or motions were possible.[34]: 499  In technical papers, physicists discuss the possibility of closed timelike curves, which are world lines that form closed loops in spacetime, allowing objects to return to their own past. There are known to be solutions to the equations of general relativity that describe spacetimes which contain closed timelike curves, such as Gödel spacetime, but the physical plausibility of these solutions is uncertain.\n",
        "Many in the scientific community believe that backward time travel is highly unlikely to be possible. Any theory that would allow time travel would introduce potential problems of causality.[35] The classic example of a problem involving causality is the \"grandfather paradox,\" which postulates travelling to the past and intervening in the conception of one's ancestors (causing the death of an ancestor before conception being frequently cited). Some physicists, such as Novikov and Deutsch, suggested that these sorts of temporal paradoxes can be avoided through the Novikov self-consistency principle or a variation of the many-worlds interpretation with interacting worlds.\"\"\""
      ],
      "metadata": {
        "id": "YJ_QPwBnEgCX"
      },
      "execution_count": null,
      "outputs": []
    },
    {
      "cell_type": "code",
      "source": [
        "import nltk\n",
        "from nltk.stem import PorterStemmer\n",
        "from nltk.corpus import stopwords"
      ],
      "metadata": {
        "id": "G_4MB_qmE6wG"
      },
      "execution_count": null,
      "outputs": []
    },
    {
      "cell_type": "code",
      "source": [
        "#tokenization : corpus to documents\n",
        "nltk.download('punkt')\n",
        "nltk.download('stopwords')\n",
        "nltk.download('wordnet')\n",
        "documents = nltk.sent_tokenize(para)"
      ],
      "metadata": {
        "colab": {
          "base_uri": "https://localhost:8080/"
        },
        "id": "mUnawPOSFEiv",
        "outputId": "fdb3ec78-534d-4776-d96a-049585269a3d"
      },
      "execution_count": null,
      "outputs": [
        {
          "output_type": "stream",
          "name": "stderr",
          "text": [
            "[nltk_data] Downloading package punkt to /root/nltk_data...\n",
            "[nltk_data]   Package punkt is already up-to-date!\n",
            "[nltk_data] Downloading package stopwords to /root/nltk_data...\n",
            "[nltk_data]   Package stopwords is already up-to-date!\n",
            "[nltk_data] Downloading package wordnet to /root/nltk_data...\n"
          ]
        }
      ]
    },
    {
      "cell_type": "code",
      "source": [
        "print(documents)"
      ],
      "metadata": {
        "colab": {
          "base_uri": "https://localhost:8080/"
        },
        "id": "vhM4ZYapFn9w",
        "outputId": "601ea5b7-5942-4e39-83fa-2f8c471c2c33"
      },
      "execution_count": null,
      "outputs": [
        {
          "output_type": "stream",
          "name": "stdout",
          "text": [
            "['Some theories, most notably special and general relativity, suggest that suitable geometries of spacetime or specific types of motion in space might allow time travel into the past and future if these geometries or motions were possible.', '[34]:\\u200a499\\u200a In technical papers, physicists discuss the possibility of closed timelike curves, which are world lines that form closed loops in spacetime, allowing objects to return to their own past.', 'There are known to be solutions to the equations of general relativity that describe spacetimes which contain closed timelike curves, such as Gödel spacetime, but the physical plausibility of these solutions is uncertain.', 'Many in the scientific community believe that backward time travel is highly unlikely to be possible.', 'Any theory that would allow time travel would introduce potential problems of causality.', '[35] The classic example of a problem involving causality is the \"grandfather paradox,\" which postulates travelling to the past and intervening in the conception of one\\'s ancestors (causing the death of an ancestor before conception being frequently cited).', 'Some physicists, such as Novikov and Deutsch, suggested that these sorts of temporal paradoxes can be avoided through the Novikov self-consistency principle or a variation of the many-worlds interpretation with interacting worlds.']\n"
          ]
        }
      ]
    },
    {
      "cell_type": "code",
      "source": [
        "stemmer = PorterStemmer()"
      ],
      "metadata": {
        "id": "WfKt_IonFzGW"
      },
      "execution_count": null,
      "outputs": []
    },
    {
      "cell_type": "code",
      "source": [
        "stemmer.stem('spacetime')"
      ],
      "metadata": {
        "colab": {
          "base_uri": "https://localhost:8080/",
          "height": 35
        },
        "id": "CbVQeDGCGHFx",
        "outputId": "8d86627e-d383-4a77-97e4-34da2d8f9386"
      },
      "execution_count": null,
      "outputs": [
        {
          "output_type": "execute_result",
          "data": {
            "text/plain": [
              "'spacetim'"
            ],
            "application/vnd.google.colaboratory.intrinsic+json": {
              "type": "string"
            }
          },
          "metadata": {},
          "execution_count": 7
        }
      ]
    },
    {
      "cell_type": "code",
      "source": [
        "from nltk.stem import WordNetLemmatizer\n",
        "lemmatizer = WordNetLemmatizer()"
      ],
      "metadata": {
        "id": "FrgKjuD9GgTR"
      },
      "execution_count": null,
      "outputs": []
    },
    {
      "cell_type": "code",
      "source": [
        "#Text-cleaning\n",
        "import re\n",
        "corpus = []\n",
        "for i in range(len(documents)):\n",
        "  review = re.sub('[^a-zA-Z]',' ', documents[i])\n",
        "  review = review.lower()\n",
        "  corpus.append(review)"
      ],
      "metadata": {
        "id": "JpZoa9wRG0-G"
      },
      "execution_count": null,
      "outputs": []
    },
    {
      "cell_type": "code",
      "source": [
        "corpus"
      ],
      "metadata": {
        "colab": {
          "base_uri": "https://localhost:8080/"
        },
        "id": "s9ZVoHMLHvWF",
        "outputId": "1e2d1c2e-ff2c-4d8c-87d3-3bb9db469501"
      },
      "execution_count": null,
      "outputs": [
        {
          "output_type": "execute_result",
          "data": {
            "text/plain": [
              "['some theories  most notably special and general relativity  suggest that suitable geometries of spacetime or specific types of motion in space might allow time travel into the past and future if these geometries or motions were possible ',\n",
              " '           in technical papers  physicists discuss the possibility of closed timelike curves  which are world lines that form closed loops in spacetime  allowing objects to return to their own past ',\n",
              " 'there are known to be solutions to the equations of general relativity that describe spacetimes which contain closed timelike curves  such as g del spacetime  but the physical plausibility of these solutions is uncertain ',\n",
              " 'many in the scientific community believe that backward time travel is highly unlikely to be possible ',\n",
              " 'any theory that would allow time travel would introduce potential problems of causality ',\n",
              " '     the classic example of a problem involving causality is the  grandfather paradox   which postulates travelling to the past and intervening in the conception of one s ancestors  causing the death of an ancestor before conception being frequently cited  ',\n",
              " 'some physicists  such as novikov and deutsch  suggested that these sorts of temporal paradoxes can be avoided through the novikov self consistency principle or a variation of the many worlds interpretation with interacting worlds ']"
            ]
          },
          "metadata": {},
          "execution_count": 10
        }
      ]
    },
    {
      "cell_type": "code",
      "source": [
        "#stemming\n",
        "for i in corpus:\n",
        "  words = nltk.word_tokenize(i)\n",
        "  for word in words:\n",
        "    if word not in set(stopwords.words('english')):\n",
        "      print(stemmer.stem(word))"
      ],
      "metadata": {
        "colab": {
          "base_uri": "https://localhost:8080/"
        },
        "id": "FfeQqE7GH0OL",
        "outputId": "be91bc1f-03f8-440e-fd69-f32e9dc394ab"
      },
      "execution_count": null,
      "outputs": [
        {
          "output_type": "stream",
          "name": "stdout",
          "text": [
            "theori\n",
            "notabl\n",
            "special\n",
            "gener\n",
            "rel\n",
            "suggest\n",
            "suitabl\n",
            "geometri\n",
            "spacetim\n",
            "specif\n",
            "type\n",
            "motion\n",
            "space\n",
            "might\n",
            "allow\n",
            "time\n",
            "travel\n",
            "past\n",
            "futur\n",
            "geometri\n",
            "motion\n",
            "possibl\n",
            "technic\n",
            "paper\n",
            "physicist\n",
            "discuss\n",
            "possibl\n",
            "close\n",
            "timelik\n",
            "curv\n",
            "world\n",
            "line\n",
            "form\n",
            "close\n",
            "loop\n",
            "spacetim\n",
            "allow\n",
            "object\n",
            "return\n",
            "past\n",
            "known\n",
            "solut\n",
            "equat\n",
            "gener\n",
            "rel\n",
            "describ\n",
            "spacetim\n",
            "contain\n",
            "close\n",
            "timelik\n",
            "curv\n",
            "g\n",
            "del\n",
            "spacetim\n",
            "physic\n",
            "plausibl\n",
            "solut\n",
            "uncertain\n",
            "mani\n",
            "scientif\n",
            "commun\n",
            "believ\n",
            "backward\n",
            "time\n",
            "travel\n",
            "highli\n",
            "unlik\n",
            "possibl\n",
            "theori\n",
            "would\n",
            "allow\n",
            "time\n",
            "travel\n",
            "would\n",
            "introduc\n",
            "potenti\n",
            "problem\n",
            "causal\n",
            "classic\n",
            "exampl\n",
            "problem\n",
            "involv\n",
            "causal\n",
            "grandfath\n",
            "paradox\n",
            "postul\n",
            "travel\n",
            "past\n",
            "interven\n",
            "concept\n",
            "one\n",
            "ancestor\n",
            "caus\n",
            "death\n",
            "ancestor\n",
            "concept\n",
            "frequent\n",
            "cite\n",
            "physicist\n",
            "novikov\n",
            "deutsch\n",
            "suggest\n",
            "sort\n",
            "tempor\n",
            "paradox\n",
            "avoid\n",
            "novikov\n",
            "self\n",
            "consist\n",
            "principl\n",
            "variat\n",
            "mani\n",
            "world\n",
            "interpret\n",
            "interact\n",
            "world\n"
          ]
        }
      ]
    },
    {
      "cell_type": "code",
      "source": [
        "# Lemmetization\n",
        "for i in range(len(documents)):\n",
        "  r = re.sub('[^a-zA-Z]',' ', documents[i])\n",
        "  r = r.lower()\n",
        "  r = r.split()\n",
        "  r = [lemmatizer.lemmatize(word) for word in r if not word in set(stopwords.words('english'))]\n",
        "  r = ' '.join(r)\n",
        "  corpus.append(r)"
      ],
      "metadata": {
        "id": "aeeIONPELZjm"
      },
      "execution_count": null,
      "outputs": []
    },
    {
      "cell_type": "code",
      "source": [
        "#Bag of words\n",
        "from sklearn.feature_extraction.text import CountVectorizer\n",
        "cv = CountVectorizer(binary=True,ngram_range=(2,3))"
      ],
      "metadata": {
        "id": "nFIgRO6VJc29"
      },
      "execution_count": null,
      "outputs": []
    },
    {
      "cell_type": "code",
      "source": [],
      "metadata": {
        "id": "SSQBHF8LxH1H"
      },
      "execution_count": null,
      "outputs": []
    },
    {
      "cell_type": "code",
      "source": [
        "x = cv.fit_transform(corpus)"
      ],
      "metadata": {
        "id": "e_BZVZ4YKI_d"
      },
      "execution_count": null,
      "outputs": []
    },
    {
      "cell_type": "code",
      "source": [
        "cv.vocabulary_"
      ],
      "metadata": {
        "colab": {
          "base_uri": "https://localhost:8080/"
        },
        "id": "rSIdVrRrKMn3",
        "outputId": "1fad04ea-f58e-4b6b-f396-bca759ed63af"
      },
      "execution_count": null,
      "outputs": [
        {
          "output_type": "execute_result",
          "data": {
            "text/plain": [
              "{'some theories': 338,\n",
              " 'theories most': 428,\n",
              " 'most notably': 206,\n",
              " 'notably special': 215,\n",
              " 'special and': 361,\n",
              " 'and general': 20,\n",
              " 'general relativity': 132,\n",
              " 'relativity suggest': 317,\n",
              " 'suggest that': 374,\n",
              " 'that suitable': 398,\n",
              " 'suitable geometries': 380,\n",
              " 'geometries of': 136,\n",
              " 'of spacetime': 241,\n",
              " 'spacetime or': 351,\n",
              " 'or specific': 255,\n",
              " 'specific types': 367,\n",
              " 'types of': 484,\n",
              " 'of motion': 235,\n",
              " 'motion in': 208,\n",
              " 'in space': 152,\n",
              " 'space might': 344,\n",
              " 'might allow': 204,\n",
              " 'allow time': 0,\n",
              " 'time travel': 446,\n",
              " 'travel into': 470,\n",
              " 'into the': 171,\n",
              " 'the past': 418,\n",
              " 'past and': 272,\n",
              " 'and future': 18,\n",
              " 'future if': 130,\n",
              " 'if these': 150,\n",
              " 'these geometries': 438,\n",
              " 'geometries or': 138,\n",
              " 'or motions': 253,\n",
              " 'motions were': 213,\n",
              " 'were possible': 493,\n",
              " 'some theories most': 339,\n",
              " 'theories most notably': 429,\n",
              " 'most notably special': 207,\n",
              " 'notably special and': 216,\n",
              " 'special and general': 362,\n",
              " 'and general relativity': 21,\n",
              " 'general relativity suggest': 134,\n",
              " 'relativity suggest that': 319,\n",
              " 'suggest that suitable': 375,\n",
              " 'that suitable geometries': 399,\n",
              " 'suitable geometries of': 381,\n",
              " 'geometries of spacetime': 137,\n",
              " 'of spacetime or': 242,\n",
              " 'spacetime or specific': 352,\n",
              " 'or specific types': 256,\n",
              " 'specific types of': 368,\n",
              " 'types of motion': 485,\n",
              " 'of motion in': 236,\n",
              " 'motion in space': 209,\n",
              " 'in space might': 153,\n",
              " 'space might allow': 345,\n",
              " 'might allow time': 205,\n",
              " 'allow time travel': 1,\n",
              " 'time travel into': 448,\n",
              " 'travel into the': 471,\n",
              " 'into the past': 172,\n",
              " 'the past and': 419,\n",
              " 'past and future': 273,\n",
              " 'and future if': 19,\n",
              " 'future if these': 131,\n",
              " 'if these geometries': 151,\n",
              " 'these geometries or': 439,\n",
              " 'geometries or motions': 139,\n",
              " 'or motions were': 254,\n",
              " 'motions were possible': 214,\n",
              " 'in technical': 156,\n",
              " 'technical papers': 386,\n",
              " 'papers physicists': 262,\n",
              " 'physicists discuss': 286,\n",
              " 'discuss the': 114,\n",
              " 'the possibility': 422,\n",
              " 'possibility of': 296,\n",
              " 'of closed': 231,\n",
              " 'closed timelike': 72,\n",
              " 'timelike curves': 455,\n",
              " 'curves which': 97,\n",
              " 'which are': 494,\n",
              " 'are world': 28,\n",
              " 'world lines': 506,\n",
              " 'lines that': 190,\n",
              " 'that form': 396,\n",
              " 'form closed': 124,\n",
              " 'closed loops': 70,\n",
              " 'loops in': 194,\n",
              " 'in spacetime': 154,\n",
              " 'spacetime allowing': 346,\n",
              " 'allowing objects': 4,\n",
              " 'objects to': 226,\n",
              " 'to return': 461,\n",
              " 'return to': 323,\n",
              " 'to their': 466,\n",
              " 'their own': 426,\n",
              " 'own past': 259,\n",
              " 'in technical papers': 157,\n",
              " 'technical papers physicists': 387,\n",
              " 'papers physicists discuss': 263,\n",
              " 'physicists discuss the': 287,\n",
              " 'discuss the possibility': 115,\n",
              " 'the possibility of': 423,\n",
              " 'possibility of closed': 297,\n",
              " 'of closed timelike': 232,\n",
              " 'closed timelike curves': 74,\n",
              " 'timelike curves which': 457,\n",
              " 'curves which are': 98,\n",
              " 'which are world': 495,\n",
              " 'are world lines': 29,\n",
              " 'world lines that': 507,\n",
              " 'lines that form': 191,\n",
              " 'that form closed': 397,\n",
              " 'form closed loops': 126,\n",
              " 'closed loops in': 71,\n",
              " 'loops in spacetime': 195,\n",
              " 'in spacetime allowing': 155,\n",
              " 'spacetime allowing objects': 348,\n",
              " 'allowing objects to': 5,\n",
              " 'objects to return': 227,\n",
              " 'to return to': 462,\n",
              " 'return to their': 324,\n",
              " 'to their own': 467,\n",
              " 'their own past': 427,\n",
              " 'there are': 436,\n",
              " 'are known': 26,\n",
              " 'known to': 186,\n",
              " 'to be': 458,\n",
              " 'be solutions': 43,\n",
              " 'solutions to': 334,\n",
              " 'to the': 463,\n",
              " 'the equations': 410,\n",
              " 'equations of': 118,\n",
              " 'of general': 233,\n",
              " 'relativity that': 320,\n",
              " 'that describe': 394,\n",
              " 'describe spacetimes': 106,\n",
              " 'spacetimes which': 359,\n",
              " 'which contain': 496,\n",
              " 'contain closed': 89,\n",
              " 'curves such': 95,\n",
              " 'such as': 369,\n",
              " 'as del': 30,\n",
              " 'del spacetime': 103,\n",
              " 'spacetime but': 349,\n",
              " 'but the': 53,\n",
              " 'the physical': 420,\n",
              " 'physical plausibility': 279,\n",
              " 'plausibility of': 290,\n",
              " 'of these': 247,\n",
              " 'these solutions': 440,\n",
              " 'solutions is': 332,\n",
              " 'is uncertain': 183,\n",
              " 'there are known': 437,\n",
              " 'are known to': 27,\n",
              " 'known to be': 187,\n",
              " 'to be solutions': 460,\n",
              " 'be solutions to': 44,\n",
              " 'solutions to the': 335,\n",
              " 'to the equations': 464,\n",
              " 'the equations of': 411,\n",
              " 'equations of general': 119,\n",
              " 'of general relativity': 234,\n",
              " 'general relativity that': 135,\n",
              " 'relativity that describe': 321,\n",
              " 'that describe spacetimes': 395,\n",
              " 'describe spacetimes which': 108,\n",
              " 'spacetimes which contain': 360,\n",
              " 'which contain closed': 497,\n",
              " 'contain closed timelike': 90,\n",
              " 'timelike curves such': 456,\n",
              " 'curves such as': 96,\n",
              " 'such as del': 370,\n",
              " 'as del spacetime': 31,\n",
              " 'del spacetime but': 104,\n",
              " 'spacetime but the': 350,\n",
              " 'but the physical': 54,\n",
              " 'the physical plausibility': 421,\n",
              " 'physical plausibility of': 280,\n",
              " 'plausibility of these': 291,\n",
              " 'of these solutions': 248,\n",
              " 'these solutions is': 441,\n",
              " 'solutions is uncertain': 333,\n",
              " 'many in': 196,\n",
              " 'in the': 158,\n",
              " 'the scientific': 424,\n",
              " 'scientific community': 325,\n",
              " 'community believe': 75,\n",
              " 'believe that': 51,\n",
              " 'that backward': 392,\n",
              " 'backward time': 38,\n",
              " 'travel is': 472,\n",
              " 'is highly': 179,\n",
              " 'highly unlikely': 147,\n",
              " 'unlikely to': 487,\n",
              " 'be possible': 42,\n",
              " 'many in the': 197,\n",
              " 'in the scientific': 160,\n",
              " 'the scientific community': 425,\n",
              " 'scientific community believe': 326,\n",
              " 'community believe that': 77,\n",
              " 'believe that backward': 52,\n",
              " 'that backward time': 393,\n",
              " 'backward time travel': 39,\n",
              " 'time travel is': 449,\n",
              " 'travel is highly': 473,\n",
              " 'is highly unlikely': 180,\n",
              " 'highly unlikely to': 149,\n",
              " 'unlikely to be': 488,\n",
              " 'to be possible': 459,\n",
              " 'any theory': 24,\n",
              " 'theory that': 432,\n",
              " 'that would': 402,\n",
              " 'would allow': 510,\n",
              " 'travel would': 476,\n",
              " 'would introduce': 512,\n",
              " 'introduce potential': 173,\n",
              " 'potential problems': 304,\n",
              " 'problems of': 313,\n",
              " 'of causality': 230,\n",
              " 'any theory that': 25,\n",
              " 'theory that would': 433,\n",
              " 'that would allow': 403,\n",
              " 'would allow time': 511,\n",
              " 'time travel would': 451,\n",
              " 'travel would introduce': 477,\n",
              " 'would introduce potential': 513,\n",
              " 'introduce potential problems': 175,\n",
              " 'potential problems of': 305,\n",
              " 'problems of causality': 314,\n",
              " 'the classic': 404,\n",
              " 'classic example': 65,\n",
              " 'example of': 120,\n",
              " 'of problem': 239,\n",
              " 'problem involving': 311,\n",
              " 'involving causality': 176,\n",
              " 'causality is': 59,\n",
              " 'is the': 181,\n",
              " 'the grandfather': 412,\n",
              " 'grandfather paradox': 144,\n",
              " 'paradox which': 268,\n",
              " 'which postulates': 498,\n",
              " 'postulates travelling': 300,\n",
              " 'travelling to': 480,\n",
              " 'and intervening': 22,\n",
              " 'intervening in': 169,\n",
              " 'the conception': 406,\n",
              " 'conception of': 82,\n",
              " 'of one': 237,\n",
              " 'one ancestors': 251,\n",
              " 'ancestors causing': 14,\n",
              " 'causing the': 63,\n",
              " 'the death': 408,\n",
              " 'death of': 101,\n",
              " 'of an': 228,\n",
              " 'an ancestor': 6,\n",
              " 'ancestor before': 8,\n",
              " 'before conception': 45,\n",
              " 'conception being': 78,\n",
              " 'being frequently': 47,\n",
              " 'frequently cited': 127,\n",
              " 'the classic example': 405,\n",
              " 'classic example of': 66,\n",
              " 'example of problem': 121,\n",
              " 'of problem involving': 240,\n",
              " 'problem involving causality': 312,\n",
              " 'involving causality is': 178,\n",
              " 'causality is the': 60,\n",
              " 'is the grandfather': 182,\n",
              " 'the grandfather paradox': 413,\n",
              " 'grandfather paradox which': 146,\n",
              " 'paradox which postulates': 269,\n",
              " 'which postulates travelling': 499,\n",
              " 'postulates travelling to': 301,\n",
              " 'travelling to the': 481,\n",
              " 'to the past': 465,\n",
              " 'past and intervening': 274,\n",
              " 'and intervening in': 23,\n",
              " 'intervening in the': 170,\n",
              " 'in the conception': 159,\n",
              " 'the conception of': 407,\n",
              " 'conception of one': 83,\n",
              " 'of one ancestors': 238,\n",
              " 'one ancestors causing': 252,\n",
              " 'ancestors causing the': 15,\n",
              " 'causing the death': 64,\n",
              " 'the death of': 409,\n",
              " 'death of an': 102,\n",
              " 'of an ancestor': 229,\n",
              " 'an ancestor before': 7,\n",
              " 'ancestor before conception': 9,\n",
              " 'before conception being': 46,\n",
              " 'conception being frequently': 79,\n",
              " 'being frequently cited': 48,\n",
              " 'some physicists': 336,\n",
              " 'physicists such': 288,\n",
              " 'as novikov': 32,\n",
              " 'novikov and': 218,\n",
              " 'and deutsch': 16,\n",
              " 'deutsch suggested': 109,\n",
              " 'suggested that': 378,\n",
              " 'that these': 400,\n",
              " 'these sorts': 442,\n",
              " 'sorts of': 342,\n",
              " 'of temporal': 243,\n",
              " 'temporal paradoxes': 390,\n",
              " 'paradoxes can': 270,\n",
              " 'can be': 55,\n",
              " 'be avoided': 40,\n",
              " 'avoided through': 36,\n",
              " 'through the': 444,\n",
              " 'the novikov': 416,\n",
              " 'novikov self': 222,\n",
              " 'self consistency': 327,\n",
              " 'consistency principle': 86,\n",
              " 'principle or': 306,\n",
              " 'or variation': 257,\n",
              " 'variation of': 491,\n",
              " 'of the': 245,\n",
              " 'the many': 414,\n",
              " 'many worlds': 202,\n",
              " 'worlds interpretation': 508,\n",
              " 'interpretation with': 165,\n",
              " 'with interacting': 500,\n",
              " 'interacting worlds': 162,\n",
              " 'some physicists such': 337,\n",
              " 'physicists such as': 289,\n",
              " 'such as novikov': 371,\n",
              " 'as novikov and': 33,\n",
              " 'novikov and deutsch': 219,\n",
              " 'and deutsch suggested': 17,\n",
              " 'deutsch suggested that': 111,\n",
              " 'suggested that these': 379,\n",
              " 'that these sorts': 401,\n",
              " 'these sorts of': 443,\n",
              " 'sorts of temporal': 343,\n",
              " 'of temporal paradoxes': 244,\n",
              " 'temporal paradoxes can': 391,\n",
              " 'paradoxes can be': 271,\n",
              " 'can be avoided': 56,\n",
              " 'be avoided through': 41,\n",
              " 'avoided through the': 37,\n",
              " 'through the novikov': 445,\n",
              " 'the novikov self': 417,\n",
              " 'novikov self consistency': 223,\n",
              " 'self consistency principle': 328,\n",
              " 'consistency principle or': 87,\n",
              " 'principle or variation': 307,\n",
              " 'or variation of': 258,\n",
              " 'variation of the': 492,\n",
              " 'of the many': 246,\n",
              " 'the many worlds': 415,\n",
              " 'many worlds interpretation': 203,\n",
              " 'worlds interpretation with': 509,\n",
              " 'interpretation with interacting': 166,\n",
              " 'with interacting worlds': 501,\n",
              " 'theory notably': 430,\n",
              " 'special general': 363,\n",
              " 'suggest suitable': 372,\n",
              " 'suitable geometry': 382,\n",
              " 'geometry spacetime': 142,\n",
              " 'spacetime specific': 355,\n",
              " 'specific type': 365,\n",
              " 'type motion': 482,\n",
              " 'motion space': 211,\n",
              " 'travel past': 474,\n",
              " 'past future': 275,\n",
              " 'future geometry': 128,\n",
              " 'geometry motion': 140,\n",
              " 'motion possible': 210,\n",
              " 'theory notably special': 431,\n",
              " 'notably special general': 217,\n",
              " 'special general relativity': 364,\n",
              " 'relativity suggest suitable': 318,\n",
              " 'suggest suitable geometry': 373,\n",
              " 'suitable geometry spacetime': 383,\n",
              " 'geometry spacetime specific': 143,\n",
              " 'spacetime specific type': 356,\n",
              " 'specific type motion': 366,\n",
              " 'type motion space': 483,\n",
              " 'motion space might': 212,\n",
              " 'time travel past': 450,\n",
              " 'travel past future': 475,\n",
              " 'past future geometry': 276,\n",
              " 'future geometry motion': 129,\n",
              " 'geometry motion possible': 141,\n",
              " 'technical paper': 384,\n",
              " 'paper physicist': 260,\n",
              " 'physicist discus': 282,\n",
              " 'discus possibility': 112,\n",
              " 'possibility closed': 294,\n",
              " 'timelike curve': 452,\n",
              " 'curve world': 93,\n",
              " 'world line': 504,\n",
              " 'line form': 188,\n",
              " 'closed loop': 68,\n",
              " 'loop spacetime': 192,\n",
              " 'allowing object': 2,\n",
              " 'object return': 224,\n",
              " 'return past': 322,\n",
              " 'technical paper physicist': 385,\n",
              " 'paper physicist discus': 261,\n",
              " 'physicist discus possibility': 283,\n",
              " 'discus possibility closed': 113,\n",
              " 'possibility closed timelike': 295,\n",
              " 'closed timelike curve': 73,\n",
              " 'timelike curve world': 454,\n",
              " 'curve world line': 94,\n",
              " 'world line form': 505,\n",
              " 'line form closed': 189,\n",
              " 'form closed loop': 125,\n",
              " 'closed loop spacetime': 69,\n",
              " 'loop spacetime allowing': 193,\n",
              " 'spacetime allowing object': 347,\n",
              " 'allowing object return': 3,\n",
              " 'object return past': 225,\n",
              " 'known solution': 184,\n",
              " 'solution equation': 329,\n",
              " 'equation general': 116,\n",
              " 'relativity describe': 315,\n",
              " 'spacetimes contain': 357,\n",
              " 'curve del': 91,\n",
              " 'spacetime physical': 353,\n",
              " 'plausibility solution': 292,\n",
              " 'solution uncertain': 331,\n",
              " 'known solution equation': 185,\n",
              " 'solution equation general': 330,\n",
              " 'equation general relativity': 117,\n",
              " 'general relativity describe': 133,\n",
              " 'relativity describe spacetimes': 316,\n",
              " 'describe spacetimes contain': 107,\n",
              " 'spacetimes contain closed': 358,\n",
              " 'timelike curve del': 453,\n",
              " 'curve del spacetime': 92,\n",
              " 'del spacetime physical': 105,\n",
              " 'spacetime physical plausibility': 354,\n",
              " 'physical plausibility solution': 281,\n",
              " 'plausibility solution uncertain': 293,\n",
              " 'many scientific': 198,\n",
              " 'believe backward': 49,\n",
              " 'travel highly': 468,\n",
              " 'unlikely possible': 486,\n",
              " 'many scientific community': 199,\n",
              " 'community believe backward': 76,\n",
              " 'believe backward time': 50,\n",
              " 'time travel highly': 447,\n",
              " 'travel highly unlikely': 469,\n",
              " 'highly unlikely possible': 148,\n",
              " 'theory would': 434,\n",
              " 'potential problem': 302,\n",
              " 'problem causality': 310,\n",
              " 'theory would allow': 435,\n",
              " 'introduce potential problem': 174,\n",
              " 'potential problem causality': 303,\n",
              " 'example problem': 122,\n",
              " 'causality grandfather': 57,\n",
              " 'paradox postulate': 266,\n",
              " 'postulate travelling': 298,\n",
              " 'travelling past': 478,\n",
              " 'past intervening': 277,\n",
              " 'intervening conception': 167,\n",
              " 'conception one': 84,\n",
              " 'one ancestor': 249,\n",
              " 'ancestor causing': 10,\n",
              " 'causing death': 61,\n",
              " 'death ancestor': 99,\n",
              " 'ancestor conception': 12,\n",
              " 'conception frequently': 80,\n",
              " 'classic example problem': 67,\n",
              " 'example problem involving': 123,\n",
              " 'involving causality grandfather': 177,\n",
              " 'causality grandfather paradox': 58,\n",
              " 'grandfather paradox postulate': 145,\n",
              " 'paradox postulate travelling': 267,\n",
              " 'postulate travelling past': 299,\n",
              " 'travelling past intervening': 479,\n",
              " 'past intervening conception': 278,\n",
              " 'intervening conception one': 168,\n",
              " 'conception one ancestor': 85,\n",
              " 'one ancestor causing': 250,\n",
              " 'ancestor causing death': 11,\n",
              " 'causing death ancestor': 62,\n",
              " 'death ancestor conception': 100,\n",
              " 'ancestor conception frequently': 13,\n",
              " 'conception frequently cited': 81,\n",
              " 'physicist novikov': 284,\n",
              " 'novikov deutsch': 220,\n",
              " 'suggested sort': 376,\n",
              " 'sort temporal': 340,\n",
              " 'temporal paradox': 388,\n",
              " 'paradox avoided': 264,\n",
              " 'avoided novikov': 34,\n",
              " 'principle variation': 308,\n",
              " 'variation many': 489,\n",
              " 'many world': 200,\n",
              " 'world interpretation': 502,\n",
              " 'interpretation interacting': 163,\n",
              " 'interacting world': 161,\n",
              " 'physicist novikov deutsch': 285,\n",
              " 'novikov deutsch suggested': 221,\n",
              " 'deutsch suggested sort': 110,\n",
              " 'suggested sort temporal': 377,\n",
              " 'sort temporal paradox': 341,\n",
              " 'temporal paradox avoided': 389,\n",
              " 'paradox avoided novikov': 265,\n",
              " 'avoided novikov self': 35,\n",
              " 'consistency principle variation': 88,\n",
              " 'principle variation many': 309,\n",
              " 'variation many world': 490,\n",
              " 'many world interpretation': 201,\n",
              " 'world interpretation interacting': 503,\n",
              " 'interpretation interacting world': 164}"
            ]
          },
          "metadata": {},
          "execution_count": 14
        }
      ]
    },
    {
      "cell_type": "code",
      "source": [
        "x[0].toarray()"
      ],
      "metadata": {
        "colab": {
          "base_uri": "https://localhost:8080/"
        },
        "id": "1z7gG4t9KSpa",
        "outputId": "9f0b3b65-3c3e-4850-f7de-c2fba3c0adb1"
      },
      "execution_count": null,
      "outputs": [
        {
          "output_type": "execute_result",
          "data": {
            "text/plain": [
              "array([[1, 1, 0, 0, 0, 0, 0, 0, 0, 0, 0, 0, 0, 0, 0, 0, 0, 0, 1, 1, 1, 1,\n",
              "        0, 0, 0, 0, 0, 0, 0, 0, 0, 0, 0, 0, 0, 0, 0, 0, 0, 0, 0, 0, 0, 0,\n",
              "        0, 0, 0, 0, 0, 0, 0, 0, 0, 0, 0, 0, 0, 0, 0, 0, 0, 0, 0, 0, 0, 0,\n",
              "        0, 0, 0, 0, 0, 0, 0, 0, 0, 0, 0, 0, 0, 0, 0, 0, 0, 0, 0, 0, 0, 0,\n",
              "        0, 0, 0, 0, 0, 0, 0, 0, 0, 0, 0, 0, 0, 0, 0, 0, 0, 0, 0, 0, 0, 0,\n",
              "        0, 0, 0, 0, 0, 0, 0, 0, 0, 0, 0, 0, 0, 0, 0, 0, 0, 0, 0, 0, 1, 1,\n",
              "        1, 0, 1, 0, 1, 1, 1, 1, 0, 0, 0, 0, 0, 0, 0, 0, 0, 0, 1, 1, 1, 1,\n",
              "        0, 0, 0, 0, 0, 0, 0, 0, 0, 0, 0, 0, 0, 0, 0, 0, 0, 1, 1, 0, 0, 0,\n",
              "        0, 0, 0, 0, 0, 0, 0, 0, 0, 0, 0, 0, 0, 0, 0, 0, 0, 0, 0, 0, 0, 0,\n",
              "        0, 0, 0, 0, 0, 0, 1, 1, 1, 1, 1, 1, 0, 0, 0, 1, 1, 1, 1, 0, 0, 0,\n",
              "        0, 0, 0, 0, 0, 0, 0, 0, 0, 0, 0, 0, 0, 0, 0, 1, 1, 0, 0, 0, 0, 1,\n",
              "        1, 0, 0, 0, 0, 0, 0, 0, 0, 0, 0, 1, 1, 1, 1, 0, 0, 0, 0, 0, 0, 0,\n",
              "        0, 0, 0, 0, 0, 0, 0, 0, 1, 1, 0, 0, 0, 0, 0, 0, 0, 0, 0, 0, 0, 0,\n",
              "        0, 0, 0, 0, 0, 0, 0, 0, 0, 0, 0, 0, 0, 0, 0, 0, 0, 0, 0, 0, 0, 0,\n",
              "        0, 0, 0, 0, 0, 0, 0, 0, 0, 1, 0, 1, 0, 0, 0, 0, 0, 0, 0, 0, 0, 0,\n",
              "        0, 0, 0, 0, 0, 0, 0, 0, 1, 1, 0, 0, 0, 0, 1, 1, 0, 0, 0, 0, 0, 1,\n",
              "        1, 0, 0, 0, 0, 0, 0, 0, 0, 1, 1, 0, 0, 0, 0, 1, 1, 0, 0, 0, 0, 0,\n",
              "        1, 1, 0, 0, 0, 0, 1, 1, 0, 0, 0, 0, 0, 0, 0, 0, 0, 0, 0, 0, 0, 0,\n",
              "        0, 0, 1, 1, 0, 0, 0, 0, 0, 0, 0, 0, 0, 0, 0, 0, 0, 0, 0, 0, 0, 0,\n",
              "        1, 1, 0, 0, 0, 0, 0, 0, 0, 0, 1, 1, 0, 0, 0, 0, 0, 0, 0, 0, 1, 1,\n",
              "        0, 0, 0, 0, 0, 0, 1, 0, 1, 0, 0, 0, 0, 0, 0, 0, 0, 0, 0, 0, 0, 0,\n",
              "        0, 0, 0, 0, 0, 0, 0, 0, 1, 1, 0, 0, 0, 0, 0, 0, 0, 0, 0, 0, 0, 0,\n",
              "        1, 1, 0, 0, 0, 0, 0, 0, 0, 1, 0, 0, 0, 0, 0, 0, 0, 0, 0, 0, 0, 0,\n",
              "        0, 0, 0, 0, 0, 0, 0, 0]])"
            ]
          },
          "metadata": {},
          "execution_count": 15
        }
      ]
    },
    {
      "cell_type": "code",
      "source": [
        "#TF-IDF\n",
        "from sklearn.feature_extraction.text import TfidfVectorizer\n",
        "cv = TfidfVectorizer(ngram_range=(3,3),max_features=2)\n",
        "X = cv.fit_transform(corpus)"
      ],
      "metadata": {
        "id": "bg2zBfHKkSIH"
      },
      "execution_count": null,
      "outputs": []
    },
    {
      "cell_type": "code",
      "source": [
        "corpus"
      ],
      "metadata": {
        "colab": {
          "base_uri": "https://localhost:8080/"
        },
        "id": "e6M3yy2hyHwI",
        "outputId": "2fe4ee7f-17c4-4080-ee64-c4b8982e0d6e"
      },
      "execution_count": null,
      "outputs": [
        {
          "output_type": "execute_result",
          "data": {
            "text/plain": [
              "['some theories  most notably special and general relativity  suggest that suitable geometries of spacetime or specific types of motion in space might allow time travel into the past and future if these geometries or motions were possible ',\n",
              " '           in technical papers  physicists discuss the possibility of closed timelike curves  which are world lines that form closed loops in spacetime  allowing objects to return to their own past ',\n",
              " 'there are known to be solutions to the equations of general relativity that describe spacetimes which contain closed timelike curves  such as g del spacetime  but the physical plausibility of these solutions is uncertain ',\n",
              " 'many in the scientific community believe that backward time travel is highly unlikely to be possible ',\n",
              " 'any theory that would allow time travel would introduce potential problems of causality ',\n",
              " '     the classic example of a problem involving causality is the  grandfather paradox   which postulates travelling to the past and intervening in the conception of one s ancestors  causing the death of an ancestor before conception being frequently cited  ',\n",
              " 'some physicists  such as novikov and deutsch  suggested that these sorts of temporal paradoxes can be avoided through the novikov self consistency principle or a variation of the many worlds interpretation with interacting worlds ',\n",
              " 'theory notably special general relativity suggest suitable geometry spacetime specific type motion space might allow time travel past future geometry motion possible',\n",
              " 'technical paper physicist discus possibility closed timelike curve world line form closed loop spacetime allowing object return past',\n",
              " 'known solution equation general relativity describe spacetimes contain closed timelike curve g del spacetime physical plausibility solution uncertain',\n",
              " 'many scientific community believe backward time travel highly unlikely possible',\n",
              " 'theory would allow time travel would introduce potential problem causality',\n",
              " 'classic example problem involving causality grandfather paradox postulate travelling past intervening conception one ancestor causing death ancestor conception frequently cited',\n",
              " 'physicist novikov deutsch suggested sort temporal paradox avoided novikov self consistency principle variation many world interpretation interacting world']"
            ]
          },
          "metadata": {},
          "execution_count": 20
        }
      ]
    },
    {
      "cell_type": "code",
      "source": [
        "pip install gensim"
      ],
      "metadata": {
        "colab": {
          "base_uri": "https://localhost:8080/"
        },
        "id": "IMJEy8EXxnkb",
        "outputId": "e0eca967-55b2-4126-99d9-d9d984df462b"
      },
      "execution_count": 1,
      "outputs": [
        {
          "output_type": "stream",
          "name": "stdout",
          "text": [
            "Requirement already satisfied: gensim in /usr/local/lib/python3.10/dist-packages (4.3.3)\n",
            "Requirement already satisfied: numpy<2.0,>=1.18.5 in /usr/local/lib/python3.10/dist-packages (from gensim) (1.26.4)\n",
            "Requirement already satisfied: scipy<1.14.0,>=1.7.0 in /usr/local/lib/python3.10/dist-packages (from gensim) (1.13.1)\n",
            "Requirement already satisfied: smart-open>=1.8.1 in /usr/local/lib/python3.10/dist-packages (from gensim) (7.0.4)\n",
            "Requirement already satisfied: wrapt in /usr/local/lib/python3.10/dist-packages (from smart-open>=1.8.1->gensim) (1.16.0)\n"
          ]
        }
      ]
    },
    {
      "cell_type": "code",
      "source": [
        "#Word2Vec\n",
        "import gensim"
      ],
      "metadata": {
        "id": "DFtybI2fxyKf"
      },
      "execution_count": 2,
      "outputs": []
    },
    {
      "cell_type": "code",
      "source": [
        "from gensim.models import Word2Vec, KeyedVectors"
      ],
      "metadata": {
        "id": "d7NsgNQWrUbQ"
      },
      "execution_count": 3,
      "outputs": []
    },
    {
      "cell_type": "code",
      "source": [
        "import gensim.downloader as api\n",
        "\n",
        "wv = api.load('word2vec-google-news-300')\n",
        "vec_king = wv['king']"
      ],
      "metadata": {
        "colab": {
          "base_uri": "https://localhost:8080/"
        },
        "id": "5QbWQO3CrbE1",
        "outputId": "90160a29-647a-4f35-9cc5-3956c260c1b7"
      },
      "execution_count": 4,
      "outputs": [
        {
          "output_type": "stream",
          "name": "stdout",
          "text": [
            "[==================================================] 100.0% 1662.8/1662.8MB downloaded\n"
          ]
        }
      ]
    },
    {
      "cell_type": "code",
      "source": [
        "vec_king"
      ],
      "metadata": {
        "colab": {
          "base_uri": "https://localhost:8080/"
        },
        "id": "NWs7LoOsuRi5",
        "outputId": "674101f1-76f9-4309-ca22-6076adab7ed1"
      },
      "execution_count": 5,
      "outputs": [
        {
          "output_type": "execute_result",
          "data": {
            "text/plain": [
              "array([ 1.25976562e-01,  2.97851562e-02,  8.60595703e-03,  1.39648438e-01,\n",
              "       -2.56347656e-02, -3.61328125e-02,  1.11816406e-01, -1.98242188e-01,\n",
              "        5.12695312e-02,  3.63281250e-01, -2.42187500e-01, -3.02734375e-01,\n",
              "       -1.77734375e-01, -2.49023438e-02, -1.67968750e-01, -1.69921875e-01,\n",
              "        3.46679688e-02,  5.21850586e-03,  4.63867188e-02,  1.28906250e-01,\n",
              "        1.36718750e-01,  1.12792969e-01,  5.95703125e-02,  1.36718750e-01,\n",
              "        1.01074219e-01, -1.76757812e-01, -2.51953125e-01,  5.98144531e-02,\n",
              "        3.41796875e-01, -3.11279297e-02,  1.04492188e-01,  6.17675781e-02,\n",
              "        1.24511719e-01,  4.00390625e-01, -3.22265625e-01,  8.39843750e-02,\n",
              "        3.90625000e-02,  5.85937500e-03,  7.03125000e-02,  1.72851562e-01,\n",
              "        1.38671875e-01, -2.31445312e-01,  2.83203125e-01,  1.42578125e-01,\n",
              "        3.41796875e-01, -2.39257812e-02, -1.09863281e-01,  3.32031250e-02,\n",
              "       -5.46875000e-02,  1.53198242e-02, -1.62109375e-01,  1.58203125e-01,\n",
              "       -2.59765625e-01,  2.01416016e-02, -1.63085938e-01,  1.35803223e-03,\n",
              "       -1.44531250e-01, -5.68847656e-02,  4.29687500e-02, -2.46582031e-02,\n",
              "        1.85546875e-01,  4.47265625e-01,  9.58251953e-03,  1.31835938e-01,\n",
              "        9.86328125e-02, -1.85546875e-01, -1.00097656e-01, -1.33789062e-01,\n",
              "       -1.25000000e-01,  2.83203125e-01,  1.23046875e-01,  5.32226562e-02,\n",
              "       -1.77734375e-01,  8.59375000e-02, -2.18505859e-02,  2.05078125e-02,\n",
              "       -1.39648438e-01,  2.51464844e-02,  1.38671875e-01, -1.05468750e-01,\n",
              "        1.38671875e-01,  8.88671875e-02, -7.51953125e-02, -2.13623047e-02,\n",
              "        1.72851562e-01,  4.63867188e-02, -2.65625000e-01,  8.91113281e-03,\n",
              "        1.49414062e-01,  3.78417969e-02,  2.38281250e-01, -1.24511719e-01,\n",
              "       -2.17773438e-01, -1.81640625e-01,  2.97851562e-02,  5.71289062e-02,\n",
              "       -2.89306641e-02,  1.24511719e-02,  9.66796875e-02, -2.31445312e-01,\n",
              "        5.81054688e-02,  6.68945312e-02,  7.08007812e-02, -3.08593750e-01,\n",
              "       -2.14843750e-01,  1.45507812e-01, -4.27734375e-01, -9.39941406e-03,\n",
              "        1.54296875e-01, -7.66601562e-02,  2.89062500e-01,  2.77343750e-01,\n",
              "       -4.86373901e-04, -1.36718750e-01,  3.24218750e-01, -2.46093750e-01,\n",
              "       -3.03649902e-03, -2.11914062e-01,  1.25000000e-01,  2.69531250e-01,\n",
              "        2.04101562e-01,  8.25195312e-02, -2.01171875e-01, -1.60156250e-01,\n",
              "       -3.78417969e-02, -1.20117188e-01,  1.15234375e-01, -4.10156250e-02,\n",
              "       -3.95507812e-02, -8.98437500e-02,  6.34765625e-03,  2.03125000e-01,\n",
              "        1.86523438e-01,  2.73437500e-01,  6.29882812e-02,  1.41601562e-01,\n",
              "       -9.81445312e-02,  1.38671875e-01,  1.82617188e-01,  1.73828125e-01,\n",
              "        1.73828125e-01, -2.37304688e-01,  1.78710938e-01,  6.34765625e-02,\n",
              "        2.36328125e-01, -2.08984375e-01,  8.74023438e-02, -1.66015625e-01,\n",
              "       -7.91015625e-02,  2.43164062e-01, -8.88671875e-02,  1.26953125e-01,\n",
              "       -2.16796875e-01, -1.73828125e-01, -3.59375000e-01, -8.25195312e-02,\n",
              "       -6.49414062e-02,  5.07812500e-02,  1.35742188e-01, -7.47070312e-02,\n",
              "       -1.64062500e-01,  1.15356445e-02,  4.45312500e-01, -2.15820312e-01,\n",
              "       -1.11328125e-01, -1.92382812e-01,  1.70898438e-01, -1.25000000e-01,\n",
              "        2.65502930e-03,  1.92382812e-01, -1.74804688e-01,  1.39648438e-01,\n",
              "        2.92968750e-01,  1.13281250e-01,  5.95703125e-02, -6.39648438e-02,\n",
              "        9.96093750e-02, -2.72216797e-02,  1.96533203e-02,  4.27246094e-02,\n",
              "       -2.46093750e-01,  6.39648438e-02, -2.25585938e-01, -1.68945312e-01,\n",
              "        2.89916992e-03,  8.20312500e-02,  3.41796875e-01,  4.32128906e-02,\n",
              "        1.32812500e-01,  1.42578125e-01,  7.61718750e-02,  5.98144531e-02,\n",
              "       -1.19140625e-01,  2.74658203e-03, -6.29882812e-02, -2.72216797e-02,\n",
              "       -4.82177734e-03, -8.20312500e-02, -2.49023438e-02, -4.00390625e-01,\n",
              "       -1.06933594e-01,  4.24804688e-02,  7.76367188e-02, -1.16699219e-01,\n",
              "        7.37304688e-02, -9.22851562e-02,  1.07910156e-01,  1.58203125e-01,\n",
              "        4.24804688e-02,  1.26953125e-01,  3.61328125e-02,  2.67578125e-01,\n",
              "       -1.01074219e-01, -3.02734375e-01, -5.76171875e-02,  5.05371094e-02,\n",
              "        5.26428223e-04, -2.07031250e-01, -1.38671875e-01, -8.97216797e-03,\n",
              "       -2.78320312e-02, -1.41601562e-01,  2.07031250e-01, -1.58203125e-01,\n",
              "        1.27929688e-01,  1.49414062e-01, -2.24609375e-02, -8.44726562e-02,\n",
              "        1.22558594e-01,  2.15820312e-01, -2.13867188e-01, -3.12500000e-01,\n",
              "       -3.73046875e-01,  4.08935547e-03,  1.07421875e-01,  1.06933594e-01,\n",
              "        7.32421875e-02,  8.97216797e-03, -3.88183594e-02, -1.29882812e-01,\n",
              "        1.49414062e-01, -2.14843750e-01, -1.83868408e-03,  9.91210938e-02,\n",
              "        1.57226562e-01, -1.14257812e-01, -2.05078125e-01,  9.91210938e-02,\n",
              "        3.69140625e-01, -1.97265625e-01,  3.54003906e-02,  1.09375000e-01,\n",
              "        1.31835938e-01,  1.66992188e-01,  2.35351562e-01,  1.04980469e-01,\n",
              "       -4.96093750e-01, -1.64062500e-01, -1.56250000e-01, -5.22460938e-02,\n",
              "        1.03027344e-01,  2.43164062e-01, -1.88476562e-01,  5.07812500e-02,\n",
              "       -9.37500000e-02, -6.68945312e-02,  2.27050781e-02,  7.61718750e-02,\n",
              "        2.89062500e-01,  3.10546875e-01, -5.37109375e-02,  2.28515625e-01,\n",
              "        2.51464844e-02,  6.78710938e-02, -1.21093750e-01, -2.15820312e-01,\n",
              "       -2.73437500e-01, -3.07617188e-02, -3.37890625e-01,  1.53320312e-01,\n",
              "        2.33398438e-01, -2.08007812e-01,  3.73046875e-01,  8.20312500e-02,\n",
              "        2.51953125e-01, -7.61718750e-02, -4.66308594e-02, -2.23388672e-02,\n",
              "        2.99072266e-02, -5.93261719e-02, -4.66918945e-03, -2.44140625e-01,\n",
              "       -2.09960938e-01, -2.87109375e-01, -4.54101562e-02, -1.77734375e-01,\n",
              "       -2.79296875e-01, -8.59375000e-02,  9.13085938e-02,  2.51953125e-01],\n",
              "      dtype=float32)"
            ]
          },
          "metadata": {},
          "execution_count": 5
        }
      ]
    },
    {
      "cell_type": "code",
      "source": [
        "#cosine-similarity\n",
        "wv.most_similar('cricket')"
      ],
      "metadata": {
        "colab": {
          "base_uri": "https://localhost:8080/"
        },
        "id": "vY-0QyK9uTvy",
        "outputId": "f634ccee-009e-4c4d-ca9e-f84795d80751"
      },
      "execution_count": 18,
      "outputs": [
        {
          "output_type": "execute_result",
          "data": {
            "text/plain": [
              "[('cricketing', 0.8372225761413574),\n",
              " ('cricketers', 0.8165745735168457),\n",
              " ('Test_cricket', 0.8094819188117981),\n",
              " ('Twenty##_cricket', 0.8068488240242004),\n",
              " ('Twenty##', 0.7624265551567078),\n",
              " ('Cricket', 0.75413978099823),\n",
              " ('cricketer', 0.7372578382492065),\n",
              " ('twenty##', 0.7316356897354126),\n",
              " ('T##_cricket', 0.7304614186286926),\n",
              " ('West_Indies_cricket', 0.6987985968589783)]"
            ]
          },
          "metadata": {},
          "execution_count": 18
        }
      ]
    },
    {
      "cell_type": "code",
      "source": [
        "wv.most_similar('corn')"
      ],
      "metadata": {
        "colab": {
          "base_uri": "https://localhost:8080/"
        },
        "id": "HMe2qXlSu69o",
        "outputId": "a1ef6237-fd96-4094-872d-ffed08c1a233"
      },
      "execution_count": 20,
      "outputs": [
        {
          "output_type": "execute_result",
          "data": {
            "text/plain": [
              "[('soybean', 0.7784005403518677),\n",
              " ('soybeans', 0.7631983757019043),\n",
              " ('wheat', 0.7077561616897583),\n",
              " ('corn_crop', 0.699353814125061),\n",
              " ('Corn', 0.6878867149353027),\n",
              " ('soy_bean', 0.6768984794616699),\n",
              " ('corn_soybean', 0.6687990427017212),\n",
              " ('sweet_corn', 0.6664301753044128),\n",
              " ('soyabeans', 0.6518656611442566),\n",
              " ('grain', 0.6460866928100586)]"
            ]
          },
          "metadata": {},
          "execution_count": 20
        }
      ]
    },
    {
      "cell_type": "code",
      "source": [
        "wv.most_similar('rupee')"
      ],
      "metadata": {
        "colab": {
          "base_uri": "https://localhost:8080/"
        },
        "id": "l7D-PENKu_Fv",
        "outputId": "cb9a883c-7cfc-4993-b465-115a5521422d"
      },
      "execution_count": 9,
      "outputs": [
        {
          "output_type": "execute_result",
          "data": {
            "text/plain": [
              "[('Rupee', 0.8221039772033691),\n",
              " ('Indian_Rupee', 0.7288974523544312),\n",
              " ('rupee_appreciation', 0.6984492540359497),\n",
              " ('rupees', 0.6948850750923157),\n",
              " ('depreciating_rupee', 0.6792574524879456),\n",
              " ('rupee_depreciation', 0.6582969427108765),\n",
              " ('appreciating_rupee', 0.650733470916748),\n",
              " ('Philippine_peso', 0.6499502658843994),\n",
              " ('rupee_appreciating', 0.6421096324920654),\n",
              " ('Sensex', 0.6407861113548279)]"
            ]
          },
          "metadata": {},
          "execution_count": 9
        }
      ]
    },
    {
      "cell_type": "code",
      "source": [
        "wv.similarity(\"wheels\",\"car\")"
      ],
      "metadata": {
        "colab": {
          "base_uri": "https://localhost:8080/"
        },
        "id": "UyPluSXbvGb5",
        "outputId": "e9b139c6-568f-4515-8a09-7186a01b6a88"
      },
      "execution_count": 17,
      "outputs": [
        {
          "output_type": "execute_result",
          "data": {
            "text/plain": [
              "0.38558435"
            ]
          },
          "metadata": {},
          "execution_count": 17
        }
      ]
    },
    {
      "cell_type": "code",
      "source": [
        "vec = wv['king'] - wv['man'] + wv['woman']"
      ],
      "metadata": {
        "id": "sIlOljGGv6rN"
      },
      "execution_count": 21,
      "outputs": []
    },
    {
      "cell_type": "code",
      "source": [
        "wv.most_similar([vec])"
      ],
      "metadata": {
        "colab": {
          "base_uri": "https://localhost:8080/"
        },
        "id": "Sq_yTGgWwDq_",
        "outputId": "a51b31a1-9694-4f8d-bf86-4a9be0599373"
      },
      "execution_count": 23,
      "outputs": [
        {
          "output_type": "execute_result",
          "data": {
            "text/plain": [
              "[('king', 0.8449392318725586),\n",
              " ('queen', 0.7300517559051514),\n",
              " ('monarch', 0.645466148853302),\n",
              " ('princess', 0.6156251430511475),\n",
              " ('crown_prince', 0.5818676352500916),\n",
              " ('prince', 0.5777117609977722),\n",
              " ('kings', 0.5613663792610168),\n",
              " ('sultan', 0.5376775860786438),\n",
              " ('Queen_Consort', 0.5344247817993164),\n",
              " ('queens', 0.5289887189865112)]"
            ]
          },
          "metadata": {},
          "execution_count": 23
        }
      ]
    }
  ]
}