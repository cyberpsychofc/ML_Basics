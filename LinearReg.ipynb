{
  "nbformat": 4,
  "nbformat_minor": 0,
  "metadata": {
    "colab": {
      "provenance": [],
      "authorship_tag": "ABX9TyPiR7YLKOHYBxZab5BoY4vo",
      "include_colab_link": true
    },
    "kernelspec": {
      "name": "python3",
      "display_name": "Python 3"
    },
    "language_info": {
      "name": "python"
    }
  },
  "cells": [
    {
      "cell_type": "markdown",
      "metadata": {
        "id": "view-in-github",
        "colab_type": "text"
      },
      "source": [
        "<a href=\"https://colab.research.google.com/github/cyberpsychofc/ML_Basics/blob/main/LinearReg.ipynb\" target=\"_parent\"><img src=\"https://colab.research.google.com/assets/colab-badge.svg\" alt=\"Open In Colab\"/></a>"
      ]
    },
    {
      "cell_type": "code",
      "execution_count": 1,
      "metadata": {
        "id": "MQHx_9H3Yby-"
      },
      "outputs": [],
      "source": [
        "import numpy as np\n",
        "import matplotlib.pyplot as plt"
      ]
    },
    {
      "cell_type": "code",
      "source": [
        "x_ds = np.array([1.0,2.0])\n",
        "y_ds = np.array([300.0, 500.0])\n",
        "print(f\"x_DataSet = {x_ds}\")\n",
        "print(f\"y_DataSet = {y_ds}\")"
      ],
      "metadata": {
        "colab": {
          "base_uri": "https://localhost:8080/"
        },
        "id": "rpj15PIQY3co",
        "outputId": "5aebabfe-7c32-464a-fbaf-8a6e98d64c67"
      },
      "execution_count": 2,
      "outputs": [
        {
          "output_type": "stream",
          "name": "stdout",
          "text": [
            "x_DataSet = [1. 2.]\n",
            "y_DataSet = [300. 500.]\n"
          ]
        }
      ]
    },
    {
      "cell_type": "code",
      "source": [
        "print(f\"X's dimensions : {x_ds.shape}\")\n",
        "m = x_ds.shape[0]\n",
        "print(f\"No. of training examples : {m}\")"
      ],
      "metadata": {
        "colab": {
          "base_uri": "https://localhost:8080/"
        },
        "id": "F3ghgC50Zan4",
        "outputId": "e59b971e-49a8-4933-d24a-31b6f8351962"
      },
      "execution_count": 3,
      "outputs": [
        {
          "output_type": "stream",
          "name": "stdout",
          "text": [
            "X's dimensions : (2,)\n",
            "No. of training examples : 2\n"
          ]
        }
      ]
    },
    {
      "cell_type": "code",
      "source": [
        "i = 0\n",
        "\n",
        "x_i = x_ds[i]\n",
        "y_i = y_ds[i]\n",
        "print(f\"(x^{i}, y^{i}) = ({x_i}, {y_i})\")"
      ],
      "metadata": {
        "colab": {
          "base_uri": "https://localhost:8080/"
        },
        "id": "an3a95o7a9Kf",
        "outputId": "695643a9-4028-47c7-e62c-ca0637f685fa"
      },
      "execution_count": 6,
      "outputs": [
        {
          "output_type": "stream",
          "name": "stdout",
          "text": [
            "(x^0, y^0) = (1.0, 300.0)\n"
          ]
        }
      ]
    }
  ]
}